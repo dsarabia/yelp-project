{
 "cells": [
  {
   "cell_type": "code",
   "execution_count": null,
   "metadata": {
    "collapsed": false
   },
   "outputs": [],
   "source": [
    "#explore json data\n",
    "%%bash\n",
    "\n",
    "head yelp_academic_dataset_business.json"
   ]
  },
  {
   "cell_type": "code",
   "execution_count": null,
   "metadata": {
    "collapsed": false
   },
   "outputs": [],
   "source": [
    "#extract columns\n",
    "import ijson\n",
    "\n",
    "filename = \"yelp_academic_dataset_business.json\"\n",
    "with open(filename ,'r') as f:\n",
    "    objects = ijson.items(f, 'business_id.item')\n",
    "    columns = list(objects)\n",
    "print(columns[0])"
   ]
  },
  {
   "cell_type": "code",
   "execution_count": null,
   "metadata": {
    "collapsed": false
   },
   "outputs": [],
   "source": [
    "#extract data from columns that we want \n",
    "columns = [\"business_id\",\"neighborhood\",\"stars\",\"categories\"]\n",
    "\n",
    "data = []\n",
    "with open(filename, 'r') as f:\n",
    "    objects = ijson.items(f, '.item')\n",
    "    for row in objects:\n",
    "        selected_row = []\n",
    "        for item in columns:\n",
    "            selected_row.append(row[column_names.index(item)])\n",
    "        data.append(selected_row)\n",
    "        \n",
    "print(data[0])\n",
    "        "
   ]
  },
  {
   "cell_type": "code",
   "execution_count": null,
   "metadata": {
    "collapsed": true
   },
   "outputs": [],
   "source": [
    "#Read data into pandas\n",
    "import pandas as pd\n",
    "\n",
    "df = pd.DataFrame(data, columns = columns)"
   ]
  },
  {
   "cell_type": "code",
   "execution_count": null,
   "metadata": {
    "collapsed": true
   },
   "outputs": [],
   "source": [
    "#convert date from strings to floats\n",
    "#for reviews.json\n",
    "#idk if this is relevant ( probably wrong )\n",
    "#https://www.dataquest.io/blog/python-json-tutorial/\n",
    "import datetime\n",
    "def parse_full_date(row):\n",
    "    date = datetime.datetime(row[\"date\"])\n",
    "    return date\n"
   ]
  }
 ],
 "metadata": {
  "kernelspec": {
   "display_name": "Python 3",
   "language": "python",
   "name": "python3"
  },
  "language_info": {
   "codemirror_mode": {
    "name": "ipython",
    "version": 3
   },
   "file_extension": ".py",
   "mimetype": "text/x-python",
   "name": "python",
   "nbconvert_exporter": "python",
   "pygments_lexer": "ipython3",
   "version": "3.6.0"
  }
 },
 "nbformat": 4,
 "nbformat_minor": 2
}
