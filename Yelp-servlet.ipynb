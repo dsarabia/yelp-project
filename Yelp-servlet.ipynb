{
 "cells": [
  {
   "cell_type": "code",
   "execution_count": 1,
   "metadata": {
    "collapsed": false
   },
   "outputs": [
    {
     "name": "stdout",
     "output_type": "stream",
     "text": [
      "bash: fg: %%bash: no such job\n",
      "{\"business_id\":\"0DI8Dt2PJp07XkVvIElIcQ\",\"name\":\"Innovative Vapors\",\"neighborhood\":\"\",\"address\":\"227 E Baseline Rd, Ste J2\",\"city\":\"Tempe\",\"state\":\"AZ\",\"postal_code\":\"85283\",\"latitude\":33.3782141,\"longitude\":-111.936102,\"stars\":4.5,\"review_count\":17,\"is_open\":0,\"attributes\":[\"BikeParking: True\",\"BusinessAcceptsBitcoin: False\",\"BusinessAcceptsCreditCards: True\",\"BusinessParking: {'garage': False, 'street': False, 'validated': False, 'lot': True, 'valet': False}\",\"DogsAllowed: False\",\"RestaurantsPriceRange2: 2\",\"WheelchairAccessible: True\"],\"categories\":[\"Tobacco Shops\",\"Nightlife\",\"Vape Shops\",\"Shopping\"],\"hours\":[\"Monday 11:0-21:0\",\"Tuesday 11:0-21:0\",\"Wednesday 11:0-21:0\",\"Thursday 11:0-21:0\",\"Friday 11:0-22:0\",\"Saturday 10:0-22:0\",\"Sunday 11:0-18:0\"],\"type\":\"business\"}\n",
      "{\"business_id\":\"LTlCaCGZE14GuaUXUGbamg\",\"name\":\"Cut and Taste\",\"neighborhood\":\"\",\"address\":\"495 S Grand Central Pkwy\",\"city\":\"Las Vegas\",\"state\":\"NV\",\"postal_code\":\"89106\",\"latitude\":36.1922841,\"longitude\":-115.1592718,\"stars\":5.0,\"review_count\":9,\"is_open\":1,\"attributes\":[\"BusinessAcceptsBitcoin: False\",\"BusinessAcceptsCreditCards: True\"],\"categories\":[\"Caterers\",\"Grocery\",\"Food\",\"Event Planning & Services\",\"Party & Event Planning\",\"Specialty Food\"],\"hours\":[\"Monday 0:0-0:0\",\"Tuesday 0:0-0:0\",\"Wednesday 0:0-0:0\",\"Thursday 0:0-0:0\",\"Friday 0:0-0:0\",\"Saturday 0:0-0:0\",\"Sunday 0:0-0:0\"],\"type\":\"business\"}\n",
      "{\"business_id\":\"EDqCEAGXVGCH4FJXgqtjqg\",\"name\":\"Pizza Pizza\",\"neighborhood\":\"Dufferin Grove\",\"address\":\"979 Bloor Street W\",\"city\":\"Toronto\",\"state\":\"ON\",\"postal_code\":\"M6H 1L5\",\"latitude\":43.661054,\"longitude\":-79.429089,\"stars\":2.5,\"review_count\":7,\"is_open\":1,\"attributes\":[\"Alcohol: none\",\"Ambience: {'romantic': False, 'intimate': False, 'classy': False, 'hipster': False, 'touristy': False, 'trendy': False, 'upscale': False, 'casual': False}\",\"BikeParking: True\",\"BusinessAcceptsCreditCards: True\",\"BusinessParking: {'garage': False, 'street': False, 'validated': False, 'lot': False, 'valet': False}\",\"Caters: True\",\"GoodForKids: True\",\"GoodForMeal: {'dessert': False, 'latenight': False, 'lunch': False, 'dinner': False, 'breakfast': False, 'brunch': False}\",\"HasTV: True\",\"NoiseLevel: quiet\",\"OutdoorSeating: False\",\"RestaurantsAttire: casual\",\"RestaurantsDelivery: True\",\"RestaurantsGoodForGroups: True\",\"RestaurantsPriceRange2: 1\",\"RestaurantsReservations: False\",\"RestaurantsTableService: False\",\"RestaurantsTakeOut: True\",\"WiFi: free\"],\"categories\":[\"Restaurants\",\"Pizza\",\"Chicken Wings\",\"Italian\"],\"hours\":[\"Monday 11:0-2:0\",\"Tuesday 11:0-2:0\",\"Wednesday 11:0-2:0\",\"Thursday 11:0-3:0\",\"Friday 11:0-3:0\",\"Saturday 11:0-3:0\",\"Sunday 11:0-2:0\"],\"type\":\"business\"}\n",
      "{\"business_id\":\"cnGIivYRLxpF7tBVR_JwWA\",\"name\":\"Plush Salon and Spa\",\"neighborhood\":\"\",\"address\":\"7014 Steubenville Pike\",\"city\":\"Oakdale\",\"state\":\"PA\",\"postal_code\":\"15071\",\"latitude\":40.4445439533,\"longitude\":-80.1745398943,\"stars\":4.0,\"review_count\":4,\"is_open\":1,\"attributes\":[\"AcceptsInsurance: False\",\"BusinessAcceptsCreditCards: True\",\"BusinessParking: {'garage': False, 'street': False, 'validated': False, 'lot': True, 'valet': False}\",\"ByAppointmentOnly: True\",\"HairSpecializesIn: {'coloring': False, 'africanamerican': False, 'curly': False, 'perms': False, 'kids': False, 'extensions': False, 'asian': False, 'straightperms': False}\",\"RestaurantsPriceRange2: 3\"],\"categories\":[\"Hair Removal\",\"Beauty & Spas\",\"Blow Dry\\/Out Services\",\"Hair Stylists\",\"Hair Extensions\",\"Massage\",\"Permanent Makeup\",\"Waxing\",\"Hair Salons\"],\"hours\":[\"Tuesday 10:0-21:0\",\"Wednesday 10:0-21:0\",\"Thursday 10:0-21:0\",\"Friday 10:0-18:0\",\"Saturday 9:0-16:0\"],\"type\":\"business\"}\n",
      "{\"business_id\":\"cdk-qqJ71q6P7TJTww_DSA\",\"name\":\"Comfort Inn\",\"neighborhood\":\"Downtown Core\",\"address\":\"321 Jarvis Street\",\"city\":\"Toronto\",\"state\":\"ON\",\"postal_code\":\"M5B 2C2\",\"latitude\":43.6598286,\"longitude\":-79.3754006,\"stars\":3.0,\"review_count\":8,\"is_open\":1,\"attributes\":[\"BusinessAcceptsCreditCards: True\",\"RestaurantsPriceRange2: 2\",\"WiFi: free\"],\"categories\":[\"Hotels & Travel\",\"Event Planning & Services\",\"Hotels\"],\"hours\":null,\"type\":\"business\"}\n",
      "{\"business_id\":\"Q9rsaUiQ-A3NdEAloy0aJA\",\"name\":\"A Plus Nail\",\"neighborhood\":\"\",\"address\":\"30 Gibson Drive, Suite122\",\"city\":\"Markham\",\"state\":\"ON\",\"postal_code\":\"L3R 2S3\",\"latitude\":43.82764,\"longitude\":-79.342722,\"stars\":2.5,\"review_count\":3,\"is_open\":1,\"attributes\":[\"BusinessAcceptsCreditCards: True\",\"ByAppointmentOnly: True\",\"RestaurantsPriceRange2: 3\"],\"categories\":[\"Nail Salons\",\"Beauty & Spas\"],\"hours\":[\"Monday 10:30-20:0\",\"Tuesday 10:30-20:0\",\"Thursday 10:30-20:0\",\"Friday 10:30-20:0\",\"Saturday 10:30-19:0\",\"Sunday 10:30-19:0\"],\"type\":\"business\"}\n",
      "{\"business_id\":\"Cu4_Fheh7IrzGiK-Pc79ig\",\"name\":\"Boomerang Baby\",\"neighborhood\":\"\",\"address\":\"10875 N Frankloyd Wright Blvd\",\"city\":\"Scottsdale\",\"state\":\"AZ\",\"postal_code\":\"85259\",\"latitude\":33.5852707,\"longitude\":-111.8349538,\"stars\":3.5,\"review_count\":8,\"is_open\":1,\"attributes\":[\"BikeParking: True\",\"BusinessAcceptsCreditCards: True\",\"BusinessParking: {'garage': False, 'street': False, 'validated': False, 'lot': True, 'valet': False}\",\"RestaurantsPriceRange2: 2\",\"WheelchairAccessible: True\"],\"categories\":[\"Baby Gear & Furniture\",\"Shopping\"],\"hours\":[\"Monday 10:0-18:0\",\"Tuesday 10:0-18:0\",\"Wednesday 10:0-18:0\",\"Thursday 10:0-18:0\",\"Friday 10:0-18:0\",\"Saturday 10:0-18:0\",\"Sunday 11:0-16:0\"],\"type\":\"business\"}\n",
      "{\"business_id\":\"GDnbt3isfhd57T1QqU6flg\",\"name\":\"Taco Bell\",\"neighborhood\":\"\",\"address\":\"11072 No Frank Lloyd Wright\",\"city\":\"Scottsdale\",\"state\":\"AZ\",\"postal_code\":\"85259\",\"latitude\":33.58671,\"longitude\":-111.83541,\"stars\":2.5,\"review_count\":9,\"is_open\":1,\"attributes\":[\"Alcohol: none\",\"Ambience: {'romantic': False, 'intimate': False, 'classy': False, 'hipster': False, 'divey': False, 'touristy': False, 'trendy': False, 'upscale': False, 'casual': False}\",\"BikeParking: True\",\"BusinessAcceptsCreditCards: True\",\"BusinessParking: {'garage': False, 'street': False, 'validated': False, 'lot': False, 'valet': False}\",\"DriveThru: True\",\"GoodForKids: True\",\"GoodForMeal: {'dessert': False, 'latenight': False, 'lunch': False, 'dinner': False, 'breakfast': False, 'brunch': False}\",\"HasTV: False\",\"NoiseLevel: quiet\",\"OutdoorSeating: False\",\"RestaurantsAttire: casual\",\"RestaurantsDelivery: False\",\"RestaurantsGoodForGroups: True\",\"RestaurantsPriceRange2: 1\",\"RestaurantsReservations: False\",\"RestaurantsTableService: False\",\"RestaurantsTakeOut: True\",\"WiFi: no\"],\"categories\":[\"Tex-Mex\",\"Mexican\",\"Fast Food\",\"Restaurants\"],\"hours\":[\"Monday 10:0-22:0\",\"Tuesday 10:0-22:0\",\"Wednesday 10:0-22:0\",\"Thursday 10:0-22:0\",\"Friday 10:0-22:0\",\"Saturday 10:0-22:0\",\"Sunday 10:0-22:0\"],\"type\":\"business\"}\n",
      "{\"business_id\":\"qwAHit4Tuj1zpO7CxVwOMA\",\"name\":\"CubeSmart Self Storage\",\"neighborhood\":\"\",\"address\":\"11000 North 115th Street\",\"city\":\"Scottsdale\",\"state\":\"AZ\",\"postal_code\":\"85259\",\"latitude\":33.5864403,\"longitude\":-111.8325788,\"stars\":4.5,\"review_count\":11,\"is_open\":1,\"attributes\":[\"BusinessAcceptsCreditCards: True\"],\"categories\":[\"Local Services\",\"Self Storage\"],\"hours\":[\"Monday 9:30-18:0\",\"Tuesday 9:30-18:0\",\"Wednesday 9:30-18:0\",\"Thursday 9:30-18:0\",\"Friday 9:30-18:0\",\"Saturday 8:30-17:0\",\"Sunday 11:0-15:0\"],\"type\":\"business\"}\n",
      "{\"business_id\":\"Nbr0kbtIrVlEcKIZoXWbSw\",\"name\":\"Sehne Backwaren\",\"neighborhood\":\"\",\"address\":\"Hauptstr. 1\",\"city\":\"Stuttgart\",\"state\":\"BW\",\"postal_code\":\"70563\",\"latitude\":48.7299,\"longitude\":9.11242,\"stars\":3.5,\"review_count\":3,\"is_open\":1,\"attributes\":[\"BikeParking: True\",\"BusinessAcceptsCreditCards: False\",\"BusinessParking: {'garage': False, 'street': False, 'validated': False, 'lot': False, 'valet': False}\",\"RestaurantsDelivery: False\",\"RestaurantsPriceRange2: 3\",\"RestaurantsTakeOut: True\"],\"categories\":[\"Food\",\"Bakeries\"],\"hours\":null,\"type\":\"business\"}\n"
     ]
    }
   ],
   "source": [
    "#ipython\n",
    "\n",
    "#explore json data\n",
    "%%bash\n",
    "\n",
    "head yelp_academic_dataset_business.json"
   ]
  },
  {
   "cell_type": "code",
   "execution_count": 96,
   "metadata": {
    "collapsed": false
   },
   "outputs": [
    {
     "name": "stdout",
     "output_type": "stream",
     "text": [
      "['business_id', 'name', 'neighborhood', 'address', 'city', 'state', 'postal_code', 'latitude', 'longitude', 'stars', 'review_count', 'is_open', 'attributes', 'categories', 'hours', 'type']\n"
     ]
    }
   ],
   "source": [
    "#extract column names\n",
    "import ijson\n",
    "\n",
    "filename = \"yelp_academic_dataset_business.json\"\n",
    "with open(filename ,'r') as f:\n",
    "    objects = next(ijson.items(f, ''))\n",
    "    column_names = list(objects)\n",
    "print(column_names)"
   ]
  },
  {
   "cell_type": "code",
   "execution_count": 116,
   "metadata": {
    "collapsed": false
   },
   "outputs": [
    {
     "name": "stdout",
     "output_type": "stream",
     "text": [
      "[['P3LisOj7DktgGa7C5FYpnA', 'Pittsburgh', 'West View', 4.0, ['Plumbing', 'Home Services']], ['93otbGHE0s0m-lU1osvg9w', 'Pittsburgh', 'North Side', 3.0, ['American (New)', 'Pubs', 'Nightlife', 'Bars', 'Restaurants']], ['csdZolWIWvkIHIqsCmV6sg', 'Pittsburgh', 'Greentree', 2.0, ['Hotels & Travel', 'Home Services', 'Hotels', 'Apartments', 'Event Planning & Services', 'Real Estate Services', 'Real Estate']]]\n"
     ]
    }
   ],
   "source": [
    "import json\n",
    "#extract data from columns that we want on the city Pittsburgh\n",
    "target_columns = [\"business_id\",\"city\",\"neighborhood\",\"stars\",\"categories\"]\n",
    "\n",
    "data = []\n",
    "\n",
    "with open(filename, 'r') as f:\n",
    "    json_data = [json.loads(line) for line in f]\n",
    "\n",
    "    for row in json_data:    \n",
    "        selected_row = []\n",
    "        #print(row[\"city\"])\n",
    "        if (row[\"city\"]==\"Pittsburgh\"):\n",
    "            for item in target_columns:\n",
    "                #print(row[item])\n",
    "                selected_row.append(row[item])\n",
    "            data.append(selected_row)\n",
    "        \n",
    "print(data[0:3])\n",
    "        "
   ]
  },
  {
   "cell_type": "code",
   "execution_count": 117,
   "metadata": {
    "collapsed": false
   },
   "outputs": [],
   "source": [
    "#Read data into pandas\n",
    "import pandas as pd\n",
    "\n",
    "df = pd.DataFrame(data, columns = target_columns)"
   ]
  },
  {
   "cell_type": "code",
   "execution_count": 118,
   "metadata": {
    "collapsed": false
   },
   "outputs": [
    {
     "data": {
      "text/html": [
       "<div>\n",
       "<table border=\"1\" class=\"dataframe\">\n",
       "  <thead>\n",
       "    <tr style=\"text-align: right;\">\n",
       "      <th></th>\n",
       "      <th>business_id</th>\n",
       "      <th>city</th>\n",
       "      <th>neighborhood</th>\n",
       "      <th>stars</th>\n",
       "      <th>categories</th>\n",
       "    </tr>\n",
       "  </thead>\n",
       "  <tbody>\n",
       "    <tr>\n",
       "      <th>0</th>\n",
       "      <td>P3LisOj7DktgGa7C5FYpnA</td>\n",
       "      <td>Pittsburgh</td>\n",
       "      <td>West View</td>\n",
       "      <td>4.0</td>\n",
       "      <td>[Plumbing, Home Services]</td>\n",
       "    </tr>\n",
       "    <tr>\n",
       "      <th>1</th>\n",
       "      <td>93otbGHE0s0m-lU1osvg9w</td>\n",
       "      <td>Pittsburgh</td>\n",
       "      <td>North Side</td>\n",
       "      <td>3.0</td>\n",
       "      <td>[American (New), Pubs, Nightlife, Bars, Restau...</td>\n",
       "    </tr>\n",
       "    <tr>\n",
       "      <th>2</th>\n",
       "      <td>csdZolWIWvkIHIqsCmV6sg</td>\n",
       "      <td>Pittsburgh</td>\n",
       "      <td>Greentree</td>\n",
       "      <td>2.0</td>\n",
       "      <td>[Hotels &amp; Travel, Home Services, Hotels, Apart...</td>\n",
       "    </tr>\n",
       "    <tr>\n",
       "      <th>3</th>\n",
       "      <td>h7ZW6c1Vi9V6_-gd2Ch_4g</td>\n",
       "      <td>Pittsburgh</td>\n",
       "      <td>Bloomfield</td>\n",
       "      <td>2.0</td>\n",
       "      <td>[Shopping, Mobile Phones]</td>\n",
       "    </tr>\n",
       "    <tr>\n",
       "      <th>4</th>\n",
       "      <td>HWrbZS1mxVRj2Y2VwMmDMg</td>\n",
       "      <td>Pittsburgh</td>\n",
       "      <td>Strip District</td>\n",
       "      <td>4.5</td>\n",
       "      <td>[Food, Bakeries]</td>\n",
       "    </tr>\n",
       "  </tbody>\n",
       "</table>\n",
       "</div>"
      ],
      "text/plain": [
       "              business_id        city    neighborhood  stars  \\\n",
       "0  P3LisOj7DktgGa7C5FYpnA  Pittsburgh       West View    4.0   \n",
       "1  93otbGHE0s0m-lU1osvg9w  Pittsburgh      North Side    3.0   \n",
       "2  csdZolWIWvkIHIqsCmV6sg  Pittsburgh       Greentree    2.0   \n",
       "3  h7ZW6c1Vi9V6_-gd2Ch_4g  Pittsburgh      Bloomfield    2.0   \n",
       "4  HWrbZS1mxVRj2Y2VwMmDMg  Pittsburgh  Strip District    4.5   \n",
       "\n",
       "                                          categories  \n",
       "0                          [Plumbing, Home Services]  \n",
       "1  [American (New), Pubs, Nightlife, Bars, Restau...  \n",
       "2  [Hotels & Travel, Home Services, Hotels, Apart...  \n",
       "3                          [Shopping, Mobile Phones]  \n",
       "4                                   [Food, Bakeries]  "
      ]
     },
     "execution_count": 118,
     "metadata": {},
     "output_type": "execute_result"
    }
   ],
   "source": [
    "df.head()"
   ]
  },
  {
   "cell_type": "code",
   "execution_count": 114,
   "metadata": {
    "collapsed": false
   },
   "outputs": [
    {
     "data": {
      "text/plain": [
       "4.0    29481\n",
       "3.5    26753\n",
       "5.0    21041\n",
       "3.0    20541\n",
       "4.5    20387\n",
       "2.5    12594\n",
       "2.0     7577\n",
       "1.5     3252\n",
       "1.0     2446\n",
       "Name: stars, dtype: int64"
      ]
     },
     "execution_count": 114,
     "metadata": {},
     "output_type": "execute_result"
    }
   ],
   "source": [
    "df[\"stars\"].value_counts()"
   ]
  },
  {
   "cell_type": "code",
   "execution_count": 119,
   "metadata": {
    "collapsed": false
   },
   "outputs": [
    {
     "data": {
      "text/plain": [
       "Pittsburgh    5275\n",
       "Name: city, dtype: int64"
      ]
     },
     "execution_count": 119,
     "metadata": {},
     "output_type": "execute_result"
    }
   ],
   "source": [
    "df[\"city\"].value_counts()"
   ]
  }
 ],
 "metadata": {
  "kernelspec": {
   "display_name": "Python 3",
   "language": "python",
   "name": "python3"
  },
  "language_info": {
   "codemirror_mode": {
    "name": "ipython",
    "version": 3
   },
   "file_extension": ".py",
   "mimetype": "text/x-python",
   "name": "python",
   "nbconvert_exporter": "python",
   "pygments_lexer": "ipython3",
   "version": "3.6.0"
  }
 },
 "nbformat": 4,
 "nbformat_minor": 2
}
